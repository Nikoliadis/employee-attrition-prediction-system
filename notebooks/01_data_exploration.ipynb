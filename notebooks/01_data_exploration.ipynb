{
 "cells": [
  {
   "cell_type": "markdown",
   "id": "7cdf6a59",
   "metadata": {},
   "source": [
    "\n",
    "# 01 — Data Exploration (EDA): Employee Attrition\n",
    "\n",
    "This notebook performs initial **Exploratory Data Analysis (EDA)** for the project **Employee Attrition Prediction System**.\n",
    "\n",
    "**Goals**\n",
    "- Load the IBM HR Analytics dataset\n",
    "- Inspect structure, types, missing values\n",
    "- Explore target balance (**Attrition**)\n",
    "- Produce quick visualizations (histograms, counts)\n",
    "- Save figures for the report in `../reports/figs/`\n",
    "\n",
    "> Paths assume this notebook lives in `notebooks/` inside your repo. If your structure differs, adjust the relative paths in the first code cell.\n"
   ]
  },
  {
   "cell_type": "code",
   "execution_count": null,
   "id": "817c614f",
   "metadata": {},
   "outputs": [],
   "source": [
    "\n",
    "# --- Setup & Imports ---\n",
    "import os\n",
    "import sys\n",
    "import pandas as pd\n",
    "import numpy as np\n",
    "import matplotlib.pyplot as plt\n",
    "\n",
    "# Make sure plots display in the notebook\n",
    "%matplotlib inline\n",
    "\n",
    "# Where to save figures\n",
    "FIG_DIR = os.path.abspath(os.path.join(os.path.pardir, 'reports', 'figs'))\n",
    "os.makedirs(FIG_DIR, exist_ok=True)\n",
    "\n",
    "print('Figure directory:', FIG_DIR)\n"
   ]
  },
  {
   "cell_type": "markdown",
   "id": "1568be98",
   "metadata": {},
   "source": [
    "\n",
    "## 1. Load Dataset\n",
    "\n",
    "By default, we try `../data/raw/WA_Fn-UseC_-HR-Employee-Attrition.csv` (Kaggle IBM HR dataset).\n",
    "If the file isn't found, adjust the `CSV_PATH` below.\n"
   ]
  },
  {
   "cell_type": "code",
   "execution_count": null,
   "id": "668d089b",
   "metadata": {},
   "outputs": [],
   "source": [
    "\n",
    "# --- Load dataset ---\n",
    "possible_paths = [\n",
    "    os.path.abspath(os.path.join(os.path.pardir, 'data', 'raw', 'WA_Fn-UseC_-HR-Employee-Attrition.csv')),\n",
    "    os.path.abspath(os.path.join('..', 'data', 'raw', 'WA_Fn-UseC_-HR-Employee-Attrition.csv')),\n",
    "    'WA_Fn-UseC_-HR-Employee-Attrition.csv'\n",
    "]\n",
    "\n",
    "CSV_PATH = None\n",
    "for p in possible_paths:\n",
    "    if os.path.exists(p):\n",
    "        CSV_PATH = p\n",
    "        break\n",
    "\n",
    "if CSV_PATH is None:\n",
    "    raise FileNotFoundError(\"Dataset not found. Place the CSV at '../data/raw/WA_Fn-UseC_-HR-Employee-Attrition.csv' and re-run.\")\n",
    "\n",
    "print('Using dataset at:', CSV_PATH)\n",
    "df = pd.read_csv(CSV_PATH)\n",
    "df.head()\n"
   ]
  },
  {
   "cell_type": "markdown",
   "id": "f197e453",
   "metadata": {},
   "source": [
    "\n",
    "## 2. Overview: Shape, Types, Preview\n"
   ]
  },
  {
   "cell_type": "code",
   "execution_count": null,
   "id": "c523d04d",
   "metadata": {},
   "outputs": [],
   "source": [
    "\n",
    "print('Shape:', df.shape)\n",
    "\n",
    "print('\\nData types:')\n",
    "print(df.dtypes.sort_values())\n",
    "\n",
    "print('\\nSample rows:')\n",
    "display(df.head(10))\n"
   ]
  },
  {
   "cell_type": "markdown",
   "id": "558c828b",
   "metadata": {},
   "source": [
    "\n",
    "## 3. Missing Values & Basic Stats\n"
   ]
  },
  {
   "cell_type": "code",
   "execution_count": null,
   "id": "62635bb0",
   "metadata": {},
   "outputs": [],
   "source": [
    "\n",
    "# Missing values per column\n",
    "na_counts = df.isna().sum().sort_values(ascending=False)\n",
    "display(na_counts[na_counts>0])\n",
    "\n",
    "# Numeric summary\n",
    "display(df.describe())\n",
    "\n",
    "# Categorical summary\n",
    "categorical_cols = df.select_dtypes(include=['object']).columns.tolist()\n",
    "display(df[categorical_cols].describe(include='object'))\n"
   ]
  },
  {
   "cell_type": "markdown",
   "id": "34266544",
   "metadata": {},
   "source": [
    "\n",
    "## 4. Target Distribution (Attrition)\n"
   ]
  },
  {
   "cell_type": "code",
   "execution_count": null,
   "id": "968bd7ed",
   "metadata": {},
   "outputs": [],
   "source": [
    "\n",
    "target_col = 'Attrition'\n",
    "if target_col not in df.columns:\n",
    "    raise KeyError(f\"Expected target column '{target_col}' not found.\")\n",
    "\n",
    "counts = df[target_col].value_counts().sort_index()\n",
    "print(counts)\n",
    "\n",
    "# Bar plot for class balance\n",
    "fig, ax = plt.subplots()\n",
    "ax.bar(counts.index.astype(str), counts.values)\n",
    "ax.set_title('Attrition Class Distribution')\n",
    "ax.set_xlabel('Attrition')\n",
    "ax.set_ylabel('Count')\n",
    "for i, v in enumerate(counts.values):\n",
    "    ax.text(i, v + max(counts.values)*0.01, str(v), ha='center', va='bottom')\n",
    "fig.tight_layout()\n",
    "fig_path = os.path.join(FIG_DIR, 'attrition_class_distribution.png')\n",
    "fig.savefig(fig_path, dpi=200)\n",
    "print('Saved plot ->', fig_path)\n",
    "plt.show()\n"
   ]
  },
  {
   "cell_type": "markdown",
   "id": "e9eebe5b",
   "metadata": {},
   "source": [
    "\n",
    "## 5. Histograms for Numerical Features\n"
   ]
  },
  {
   "cell_type": "code",
   "execution_count": null,
   "id": "9dfa4784",
   "metadata": {},
   "outputs": [],
   "source": [
    "\n",
    "numeric_cols = df.select_dtypes(include=[np.number]).columns.tolist()\n",
    "\n",
    "for col in numeric_cols:\n",
    "    fig, ax = plt.subplots()\n",
    "    ax.hist(df[col].dropna(), bins=30)\n",
    "    ax.set_title(f'Distribution: {col}')\n",
    "    ax.set_xlabel(col)\n",
    "    ax.set_ylabel('Frequency')\n",
    "    fig.tight_layout()\n",
    "    out = os.path.join(FIG_DIR, f'hist_{col}.png')\n",
    "    fig.savefig(out, dpi=200)\n",
    "    plt.close(fig)\n",
    "\n",
    "print(f\"Saved {len(numeric_cols)} histogram(s) to:\", FIG_DIR)\n"
   ]
  },
  {
   "cell_type": "markdown",
   "id": "bf2cd10e",
   "metadata": {},
   "source": [
    "\n",
    "## 6. Correlation Heatmap (Numeric Features)\n"
   ]
  },
  {
   "cell_type": "code",
   "execution_count": null,
   "id": "c400bfec",
   "metadata": {},
   "outputs": [],
   "source": [
    "\n",
    "if len(numeric_cols) > 1:\n",
    "    corr = df[numeric_cols].corr(numeric_only=True)\n",
    "    fig, ax = plt.subplots(figsize=(10,8))\n",
    "    cax = ax.imshow(corr.values, interpolation='nearest', aspect='auto')\n",
    "    ax.set_title('Correlation Heatmap (numeric features)')\n",
    "    ax.set_xticks(range(len(numeric_cols)))\n",
    "    ax.set_yticks(range(len(numeric_cols)))\n",
    "    ax.set_xticklabels(numeric_cols, rotation=90)\n",
    "    ax.set_yticklabels(numeric_cols)\n",
    "    fig.colorbar(cax)\n",
    "    fig.tight_layout()\n",
    "    out = os.path.join(FIG_DIR, 'correlation_heatmap.png')\n",
    "    fig.savefig(out, dpi=200)\n",
    "    print('Saved plot ->', out)\n",
    "    plt.show()\n",
    "else:\n",
    "    print(\"Not enough numeric columns for a correlation heatmap.\")\n"
   ]
  },
  {
   "cell_type": "markdown",
   "id": "3913346d",
   "metadata": {},
   "source": [
    "\n",
    "## 7. Categorical Features vs Attrition (Top Categories)\n",
    "\n",
    "For key categorical variables, show counts and attrition rate per category.\n"
   ]
  },
  {
   "cell_type": "code",
   "execution_count": null,
   "id": "fa5c5d77",
   "metadata": {},
   "outputs": [],
   "source": [
    "\n",
    "def bar_counts(series, title, xlabel, fname):\n",
    "    vc = series.value_counts()\n",
    "    fig, ax = plt.subplots()\n",
    "    ax.bar(vc.index.astype(str), vc.values)\n",
    "    ax.set_title(title)\n",
    "    ax.set_xlabel(xlabel)\n",
    "    ax.set_ylabel('Count')\n",
    "    ax.tick_params(axis='x', rotation=45)\n",
    "    fig.tight_layout()\n",
    "    out = os.path.join(FIG_DIR, fname)\n",
    "    fig.savefig(out, dpi=200)\n",
    "    plt.close(fig)\n",
    "    return out\n",
    "\n",
    "def attrition_rate_by_cat(df, cat_col, target='Attrition'):\n",
    "    # Assumes target is 'Yes'/'No'\n",
    "    grp = df.groupby(cat_col)[target].apply(lambda s: (s=='Yes').mean()).sort_values(ascending=False)\n",
    "    return grp\n",
    "\n",
    "cat_candidates = ['Department', 'JobRole', 'BusinessTravel', 'MaritalStatus', 'OverTime', 'EducationField']\n",
    "\n",
    "for col in cat_candidates:\n",
    "    if col in df.columns:\n",
    "        count_img = bar_counts(df[col], f'{col} — Counts', col, f'counts_{col}.png')\n",
    "        print('Saved:', count_img)\n",
    "\n",
    "        rate = attrition_rate_by_cat(df, col, target=target_col)\n",
    "        display(rate.to_frame('AttritionRate'))\n",
    "        # Plot rates\n",
    "        fig, ax = plt.subplots(figsize=(8,4))\n",
    "        ax.bar(rate.index.astype(str), rate.values)\n",
    "        ax.set_title(f'{col} — Attrition Rate')\n",
    "        ax.set_xlabel(col)\n",
    "        ax.set_ylabel('Attrition Rate (Yes)')\n",
    "        ax.set_ylim(0, 1)\n",
    "        ax.tick_params(axis='x', rotation=45)\n",
    "        fig.tight_layout()\n",
    "        out = os.path.join(FIG_DIR, f'attrition_rate_{col}.png')\n",
    "        fig.savefig(out, dpi=200)\n",
    "        print('Saved:', out)\n",
    "        plt.show()\n"
   ]
  },
  {
   "cell_type": "markdown",
   "id": "b3eb01b0",
   "metadata": {},
   "source": [
    "\n",
    "## 8. Save a Cleaned Copy (Optional)\n",
    "\n",
    "If you perform simple cleaning (e.g., drop columns, fix types), you can save a processed version for modeling.\n"
   ]
  },
  {
   "cell_type": "code",
   "execution_count": null,
   "id": "0d051ce4",
   "metadata": {},
   "outputs": [],
   "source": [
    "\n",
    "# Example: no cleaning yet, but here is where you'd do it.\n",
    "processed_dir = os.path.abspath(os.path.join(os.path.pardir, 'data', 'processed'))\n",
    "os.makedirs(processed_dir, exist_ok=True)\n",
    "\n",
    "processed_path = os.path.join(processed_dir, 'hr_attrition_processed.csv')\n",
    "df.to_csv(processed_path, index=False)\n",
    "print('Saved processed copy ->', processed_path)\n"
   ]
  }
 ],
 "metadata": {},
 "nbformat": 4,
 "nbformat_minor": 5
}
